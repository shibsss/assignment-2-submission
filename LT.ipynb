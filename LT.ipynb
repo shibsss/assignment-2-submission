{
  "nbformat": 4,
  "nbformat_minor": 0,
  "metadata": {
    "colab": {
      "name": "LT.ipynb",
      "provenance": []
    },
    "kernelspec": {
      "name": "python3",
      "display_name": "Python 3"
    },
    "language_info": {
      "name": "python"
    }
  },
  "cells": [
    {
      "cell_type": "code",
      "metadata": {
        "colab": {
          "base_uri": "https://localhost:8080/"
        },
        "id": "lbxGyGdBiuLj",
        "outputId": "e155ca76-d521-466c-bbf2-73b8a7658f3c"
      },
      "source": [
        "participants=(\"sheela\",\"nini\",\"rekha\",\"renu\",\"hema\")\n",
        "N=int(input(\"Enter the max number of people to buy the ticket:\"))\n",
        "for i in range(N):\n",
        " S=int(input(\"select participants using LT numbers:\"))\n",
        "print(\"1.Sheela\")\n",
        "print(\"4.nini\")\n",
        "print(\"5.rekha\")\n",
        "print(\"2.renu\")\n",
        "print(\"7.hema\")\n",
        "import random\n",
        "list = [1, 4, 5, 2, 7]\n",
        "print (\"lottery tickets numbers are : \" + str(list))\n",
        "random_num = random.choice(list)\n",
        "print (\"The winner is : \" + str(random_num))\n",
        "\n",
        "\n",
        "\n",
        "\n",
        "\n",
        "\n",
        "\n",
        "\n",
        "\n",
        "\n",
        "\n",
        "\n"
      ],
      "execution_count": 1,
      "outputs": [
        {
          "output_type": "stream",
          "text": [
            "Enter the max number of people to buy the ticket:5\n",
            "select participants using LT numbers:1\n",
            "select participants using LT numbers:4\n",
            "select participants using LT numbers:5\n",
            "select participants using LT numbers:2\n",
            "select participants using LT numbers:7\n",
            "1.Sheela\n",
            "4.nini\n",
            "5.rekha\n",
            "2.renu\n",
            "7.hema\n",
            "lottery tickets numbers are : [1, 4, 5, 2, 7]\n",
            "The winner is : 2\n"
          ],
          "name": "stdout"
        }
      ]
    },
    {
      "cell_type": "code",
      "metadata": {
        "id": "4DPuCi0Ri54H"
      },
      "source": [
        ""
      ],
      "execution_count": null,
      "outputs": []
    }
  ]
}